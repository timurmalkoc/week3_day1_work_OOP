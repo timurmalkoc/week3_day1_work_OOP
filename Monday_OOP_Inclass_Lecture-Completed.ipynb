{
 "cells": [
  {
   "cell_type": "markdown",
   "metadata": {},
   "source": [
    "# Object-Oriented-Programming (OOP)"
   ]
  },
  {
   "cell_type": "markdown",
   "metadata": {},
   "source": [
    "## Tasks Today:\n",
    "\n",
    "   \n",
    "\n",
    "1) <b>Creating a Class (Initializing/Declaring)</b> <br>\n",
    "2) <b>Using a Class (Instantiating)</b> <br>\n",
    " &nbsp;&nbsp;&nbsp;&nbsp; a) Creating One Instance <br>\n",
    " &nbsp;&nbsp;&nbsp;&nbsp; b) Creating Multiple Instances <br>\n",
    " &nbsp;&nbsp;&nbsp;&nbsp; c) In-Class Exercise #1 - Create a Class 'Car' and instantiate three different makes of cars <br>\n",
    "3) <b>The \\__init\\__() Method</b> <br>\n",
    " &nbsp;&nbsp;&nbsp;&nbsp; a) The 'self' Attribute <br>\n",
    "4) <b>Class Attributes</b> <br>\n",
    " &nbsp;&nbsp;&nbsp;&nbsp; a) Initializing Attributes <br>\n",
    " &nbsp;&nbsp;&nbsp;&nbsp; b) Setting an Attribute Outside of the \\__init\\__() Method <br>\n",
    " &nbsp;&nbsp;&nbsp;&nbsp; c) Setting Defaults for Attributes <br>\n",
    " &nbsp;&nbsp;&nbsp;&nbsp; d) Accessing Class Attributes <br>\n",
    " &nbsp;&nbsp;&nbsp;&nbsp; e) Changing Class Attributes <br>\n",
    " &nbsp;&nbsp;&nbsp;&nbsp; f) In-Class Exercise #2 - Add a color and wheels attribute to your 'Car' class <br>\n",
    "5) <b>Class Methods</b> <br>\n",
    " &nbsp;&nbsp;&nbsp;&nbsp; a) Creating <br>\n",
    " &nbsp;&nbsp;&nbsp;&nbsp; b) Calling <br>\n",
    " &nbsp;&nbsp;&nbsp;&nbsp; c) Modifying an Attribute's Value Through a Method <br>\n",
    " &nbsp;&nbsp;&nbsp;&nbsp; d) Incrementing an Attribute's Value Through a Method <br>\n",
    " &nbsp;&nbsp;&nbsp;&nbsp; e) In-Class Exercise #3 - Add a method that prints the cars color and wheel number, then call them <br>\n",
    "6) <b>Inheritance</b> <br>\n",
    " &nbsp;&nbsp;&nbsp;&nbsp; a) Syntax for Inheriting from a Parent Class <br>\n",
    " &nbsp;&nbsp;&nbsp;&nbsp; b) The \\__init\\__() Method for a Child Class (super()) <br>\n",
    " &nbsp;&nbsp;&nbsp;&nbsp; c) Defining Attributes and Methods for the Child Class <br>\n",
    " &nbsp;&nbsp;&nbsp;&nbsp; d) Method Overriding <br>\n",
    " &nbsp;&nbsp;&nbsp;&nbsp; e) In-Class Exercise #4 - Create a class 'Ford' that inherits from 'Car' class and initialize it as a Blue Ford Explorer with 4 wheels using the super() method <br>\n",
    "7) <b>Classes as Attributes</b> <br>\n",
    "8) <b>Exercises</b> <br>\n",
    " &nbsp;&nbsp;&nbsp;&nbsp; a) Exercise #1 - Turn the shopping cart program from yesterday into an object-oriented program <br>"
   ]
  },
  {
   "cell_type": "code",
   "execution_count": null,
   "metadata": {},
   "outputs": [],
   "source": []
  },
  {
   "cell_type": "markdown",
   "metadata": {},
   "source": [
    "#### Object-Oriented Programming"
   ]
  },
  {
   "cell_type": "markdown",
   "metadata": {},
   "source": [
    "Object-Oriented Programming (OOP) allows us to create programs so that that properties and behaviors are bundled into **objects**. OOP models real-world entities as software objects that have some data associated with them and can perform certain functions."
   ]
  },
  {
   "cell_type": "markdown",
   "metadata": {},
   "source": [
    "## Creating a Class (Initializing/Declaring)\n",
    "<p>When creating a class, function, or even a variable you are initializing that object. Initializing and Declaring occur at the same time in Python, whereas in lower level languages you have to declare an object before initializing it. This is the first step in the process of using a class.</p>"
   ]
  },
  {
   "cell_type": "code",
   "execution_count": 7,
   "metadata": {},
   "outputs": [
    {
     "name": "stdout",
     "output_type": "stream",
     "text": [
      "Help on class Student in module __main__:\n",
      "\n",
      "class Student(builtins.object)\n",
      " |  Data descriptors defined here:\n",
      " |  \n",
      " |  __dict__\n",
      " |      dictionary for instance variables (if defined)\n",
      " |  \n",
      " |  __weakref__\n",
      " |      list of weak references to the object (if defined)\n",
      "\n",
      "{'__module__': '__main__', '__dict__': <attribute '__dict__' of 'Student' objects>, '__weakref__': <attribute '__weakref__' of 'Student' objects>, '__doc__': None}\n"
     ]
    }
   ],
   "source": [
    "# Syntax: class Classname(): or class Classname:  *always capitalize our class names! pep8 guidelines\n",
    "class Student():\n",
    "    pass\n",
    "\n",
    "\n",
    "help(Student)\n",
    "print(Student.__dict__)"
   ]
  },
  {
   "cell_type": "markdown",
   "metadata": {},
   "source": [
    "## Using a Class (Instantiating)\n",
    "<p>The process of creating a class is called <i>Instantiating</i>. Each time you create a variable of that type of class, it is referred to as an <i>Instance</i> of that class. This is the second step in the process of using a class.</p>"
   ]
  },
  {
   "cell_type": "code",
   "execution_count": 8,
   "metadata": {},
   "outputs": [
    {
     "name": "stdout",
     "output_type": "stream",
     "text": [
      "[1, 2, 3, 4]\n",
      "[6, 7, 8, 9, 10]\n"
     ]
    }
   ],
   "source": [
    "a_list = [1, 2, 3, 4]\n",
    "b_list = [6, 7, 8, 9]\n",
    "\n",
    "b_list.append(10)\n",
    "print(a_list)\n",
    "print(b_list)"
   ]
  },
  {
   "cell_type": "markdown",
   "metadata": {},
   "source": [
    "##### Creating One Instance"
   ]
  },
  {
   "cell_type": "code",
   "execution_count": 9,
   "metadata": {},
   "outputs": [
    {
     "name": "stdout",
     "output_type": "stream",
     "text": [
      "<__main__.Student object at 0x0000014DCA111760>\n"
     ]
    },
    {
     "data": {
      "text/plain": [
       "<__main__.Student at 0x14dca111760>"
      ]
     },
     "execution_count": 9,
     "metadata": {},
     "output_type": "execute_result"
    }
   ],
   "source": [
    "# variable = Classname()\n",
    "\n",
    "student_1 = Student()\n",
    "\n",
    "print(student_1)\n",
    "student_1"
   ]
  },
  {
   "cell_type": "markdown",
   "metadata": {},
   "source": [
    "##### Creating Multiple Instances"
   ]
  },
  {
   "cell_type": "code",
   "execution_count": 12,
   "metadata": {},
   "outputs": [
    {
     "name": "stdout",
     "output_type": "stream",
     "text": [
      "<__main__.Student object at 0x0000014DCA111520>\n",
      "<__main__.Student object at 0x0000014DCA0F4790>\n"
     ]
    }
   ],
   "source": [
    "student_2 = Student()\n",
    "print(student_2)\n",
    "\n",
    "student_3 = Student()\n",
    "print(student_3)"
   ]
  },
  {
   "cell_type": "markdown",
   "metadata": {},
   "source": [
    "##### Adding attributes to instances"
   ]
  },
  {
   "cell_type": "code",
   "execution_count": 13,
   "metadata": {},
   "outputs": [
    {
     "name": "stdout",
     "output_type": "stream",
     "text": [
      "{'first_name': 'Jimmy', 'last_name': 'Smith'}\n",
      "{'first_name': 'Laura', 'last_name': 'Green'}\n"
     ]
    }
   ],
   "source": [
    "# instance.property = value\n",
    "\n",
    "student_1.first_name = 'Jimmy'\n",
    "student_1.last_name = 'Smith'\n",
    "\n",
    "student_2.first_name = 'Laura'\n",
    "student_2.last_name = 'Green'\n",
    "\n",
    "print(student_1.__dict__)\n",
    "print(student_2.__dict__)"
   ]
  },
  {
   "cell_type": "markdown",
   "metadata": {},
   "source": [
    "##### In-Class Exercise #1 - Create a Class 'Car' and Instantiate three different car instances. Add a different make for each car."
   ]
  },
  {
   "cell_type": "code",
   "execution_count": null,
   "metadata": {},
   "outputs": [],
   "source": []
  },
  {
   "cell_type": "markdown",
   "metadata": {},
   "source": [
    "## The \\__init\\__() Method <br>\n",
    "<p>This method is used in almost every created class, and called only once upon the creation of the class instance. This method will initialize all variables needed for the object.</p>"
   ]
  },
  {
   "cell_type": "markdown",
   "metadata": {},
   "source": [
    "##### The 'self' Attribute <br>\n",
    "<p>This attribute is required to keep track of specific instance's attributes. Without the self attribute, the program would not know how to reference or keep track of an instance's attributes.</p>"
   ]
  },
  {
   "cell_type": "code",
   "execution_count": 16,
   "metadata": {},
   "outputs": [],
   "source": [
    "def create_student(student_instance, first, last, teacher):\n",
    "    student_instance.first_name = first\n",
    "    student_instance.last_name = last\n",
    "    student_instance.teacher = teacher\n",
    "    return student_instance\n"
   ]
  },
  {
   "cell_type": "code",
   "execution_count": 17,
   "metadata": {},
   "outputs": [
    {
     "name": "stdout",
     "output_type": "stream",
     "text": [
      "<__main__.Student object at 0x0000014DCA1116A0>\n"
     ]
    }
   ],
   "source": [
    "\n",
    "new_student = create_student(Student(), 'Jacob', 'McAdams', 'Wormwood')\n",
    "\n",
    "print(new_student)"
   ]
  },
  {
   "cell_type": "code",
   "execution_count": 18,
   "metadata": {},
   "outputs": [
    {
     "name": "stdout",
     "output_type": "stream",
     "text": [
      "<__main__.Student object at 0x0000014DCA111F70>\n"
     ]
    }
   ],
   "source": [
    "class Student:\n",
    "    def __init__(self, first, last, teacher):\n",
    "        self.first_name = first\n",
    "        self.last_name = last\n",
    "        self.teacher = teacher\n",
    "        \n",
    "        \n",
    "newer_student = Student('Jeff', 'Miller', 'Kelly')\n",
    "\n",
    "print(newer_student)"
   ]
  },
  {
   "cell_type": "markdown",
   "metadata": {},
   "source": [
    "## Class Attributes <br>\n",
    "<p>While variables are inside of a class, they are referred to as attributes and not variables. When someone says 'attribute' you know they're speaking about a class. Attributes can be initialized through the init method, or outside of it.</p>"
   ]
  },
  {
   "cell_type": "markdown",
   "metadata": {},
   "source": [
    "##### Initializing Attributes"
   ]
  },
  {
   "cell_type": "code",
   "execution_count": 19,
   "metadata": {},
   "outputs": [],
   "source": [
    "class Truck:\n",
    "    wheels = 4 # Class attribute\n",
    "    def __init__(self, color, make):\n",
    "        self.color = color # instance attribute(s)\n",
    "        self.make = make\n",
    "        \n",
    "        \n",
    "truck1 = Truck('blue', 'Ford')\n",
    "truck2 = Truck('red', 'Chevy')"
   ]
  },
  {
   "cell_type": "markdown",
   "metadata": {},
   "source": [
    "##### Accessing Class Attributes"
   ]
  },
  {
   "cell_type": "code",
   "execution_count": null,
   "metadata": {
    "scrolled": true
   },
   "outputs": [],
   "source": [
    "# See Above"
   ]
  },
  {
   "cell_type": "markdown",
   "metadata": {},
   "source": [
    "##### Setting Defaults for Attributes"
   ]
  },
  {
   "cell_type": "code",
   "execution_count": 20,
   "metadata": {},
   "outputs": [],
   "source": [
    "class Bike():\n",
    "    \n",
    "    def __init__(self, color, brand='Schwinn'):\n",
    "        self.color = color\n",
    "        self.brand = brand\n",
    "        self.wheels = 2\n",
    "        \n",
    "        \n",
    "my_bike = Bike('blue')\n",
    "your_bike = Bike('red', 'Giant')"
   ]
  },
  {
   "cell_type": "markdown",
   "metadata": {},
   "source": [
    "##### Changing Class Attributes <br>\n",
    "<p>Keep in mind there are global class attributes and then there are attributes only available to each class instance which won't effect other classes.</p>"
   ]
  },
  {
   "cell_type": "code",
   "execution_count": 21,
   "metadata": {},
   "outputs": [],
   "source": [
    "class Truck():\n",
    "    wheels = 4 # Class attribute\n",
    "    \n",
    "    def __init__(self, color, make):\n",
    "        self.color = color # instance attributes\n",
    "        self.make = make"
   ]
  },
  {
   "cell_type": "code",
   "execution_count": 22,
   "metadata": {},
   "outputs": [],
   "source": [
    "truck1 = Truck('black', 'Ford')\n",
    "truck2 = Truck('white', 'GM')"
   ]
  },
  {
   "cell_type": "code",
   "execution_count": 23,
   "metadata": {},
   "outputs": [
    {
     "name": "stdout",
     "output_type": "stream",
     "text": [
      "4\n",
      "4\n",
      "\n",
      "16\n",
      "4\n",
      "\n",
      "16\n",
      "24\n",
      "\n",
      "truck1: {'color': 'black', 'make': 'Ford', 'wheels': 16}\n",
      "truck2: {'color': 'white', 'make': 'GM'}\n",
      "Truck Class: {'__module__': '__main__', 'wheels': 24, '__init__': <function Truck.__init__ at 0x0000014DCA1DCC10>, '__dict__': <attribute '__dict__' of 'Truck' objects>, '__weakref__': <attribute '__weakref__' of 'Truck' objects>, '__doc__': None}\n"
     ]
    }
   ],
   "source": [
    "print(truck1.wheels)\n",
    "print(truck2.wheels)\n",
    "print()\n",
    "truck1.wheels = 16 # Sets an Instance Attribute on truck1\n",
    "print(truck1.wheels)\n",
    "print(truck2.wheels)\n",
    "print()\n",
    "Truck.wheels = 24 # Changes the Class attribute on Truck\n",
    "print(truck1.wheels)\n",
    "print(truck2.wheels)\n",
    "print()\n",
    "print(\"truck1:\",truck1.__dict__)\n",
    "print(\"truck2:\",truck2.__dict__)\n",
    "print(\"Truck Class:\",Truck.__dict__)"
   ]
  },
  {
   "cell_type": "markdown",
   "metadata": {},
   "source": [
    "##### In-Class Exercise 2 - Create an \\__init__ method for your Car class which takes in color and model with a default value for gas_level of 100. Your class should also have a class attribute for model. Once you have created the class, instantiate 3 different cars"
   ]
  },
  {
   "cell_type": "code",
   "execution_count": null,
   "metadata": {},
   "outputs": [],
   "source": []
  },
  {
   "cell_type": "markdown",
   "metadata": {},
   "source": [
    "## Class Methods <br>\n",
    "<p>While inside of a class, functions are referred to as 'methods'. If you hear someone mention methods, they're speaking about classes. Methods are essentially functions, but only callable on the instances of a class.</p>"
   ]
  },
  {
   "cell_type": "markdown",
   "metadata": {},
   "source": [
    "##### Creating"
   ]
  },
  {
   "cell_type": "code",
   "execution_count": 24,
   "metadata": {},
   "outputs": [],
   "source": [
    "class Employee():\n",
    "    raise_amount = 1.05\n",
    "    \n",
    "    def __init__(self, first, last, salary):\n",
    "        self.first = first\n",
    "        self.last = last\n",
    "        self.salary = salary\n",
    "        self.email = first + \".\" + last + \"@company.org\"\n",
    "        \n",
    "    def full_name(self):\n",
    "        return f'{self.first} {self.last}'\n",
    "    \n",
    "    def apply_raise(self):\n",
    "        self.salary = int(self.salary * self.raise_amount)\n",
    "        \n",
    "    def change_last_name(self, last):\n",
    "        self.last = last\n",
    "        self.email = self.first + \".\" + last + \"@company.org\"\n",
    "        \n",
    "    def add_health_benefits(self, provider):\n",
    "        self.insurance = provider\n",
    "    \n",
    "    \n",
    "emp_1 = Employee('Leo', 'Messi', 50000)\n",
    "emp_2 = Employee('Sergio', 'Aguero', 100000)"
   ]
  },
  {
   "cell_type": "code",
   "execution_count": 25,
   "metadata": {},
   "outputs": [
    {
     "data": {
      "text/plain": [
       "'Leo.Messi@company.org'"
      ]
     },
     "execution_count": 25,
     "metadata": {},
     "output_type": "execute_result"
    }
   ],
   "source": [
    "emp_1.email"
   ]
  },
  {
   "cell_type": "markdown",
   "metadata": {},
   "source": [
    "##### Calling"
   ]
  },
  {
   "cell_type": "code",
   "execution_count": 26,
   "metadata": {},
   "outputs": [
    {
     "name": "stdout",
     "output_type": "stream",
     "text": [
      "Leo Messi\n",
      "Sergio Aguero\n"
     ]
    }
   ],
   "source": [
    "# See Above\n",
    "print(emp_1.full_name())\n",
    "print(Employee.full_name(emp_2))"
   ]
  },
  {
   "cell_type": "markdown",
   "metadata": {},
   "source": [
    "##### Modifying an Attribute's Value Through a Method"
   ]
  },
  {
   "cell_type": "code",
   "execution_count": 27,
   "metadata": {},
   "outputs": [
    {
     "name": "stdout",
     "output_type": "stream",
     "text": [
      "{'first': 'Leo', 'last': 'Messi', 'salary': 50000, 'email': 'Leo.Messi@company.org'}\n",
      "{'first': 'Leo', 'last': 'Stanton', 'salary': 50000, 'email': 'Leo.Stanton@company.org'}\n"
     ]
    }
   ],
   "source": [
    "print(emp_1.__dict__)\n",
    "emp_1.change_last_name('Stanton')\n",
    "print(emp_1.__dict__)"
   ]
  },
  {
   "cell_type": "code",
   "execution_count": 28,
   "metadata": {},
   "outputs": [
    {
     "name": "stdout",
     "output_type": "stream",
     "text": [
      "Sergio Aguero\n",
      "Sergio Smith\n"
     ]
    }
   ],
   "source": [
    "print(emp_2.full_name())\n",
    "Employee.change_last_name(emp_2, 'Smith')\n",
    "print(emp_2.full_name())"
   ]
  },
  {
   "cell_type": "markdown",
   "metadata": {},
   "source": [
    "##### Incrementing an Attribute's Value Through a Method"
   ]
  },
  {
   "cell_type": "code",
   "execution_count": 29,
   "metadata": {},
   "outputs": [
    {
     "name": "stdout",
     "output_type": "stream",
     "text": [
      "100000\n",
      "105000\n",
      "110250\n"
     ]
    }
   ],
   "source": [
    "print(emp_2.salary)\n",
    "emp_2.apply_raise()\n",
    "print(emp_2.salary)\n",
    "emp_2.apply_raise()\n",
    "print(emp_2.salary)"
   ]
  },
  {
   "cell_type": "markdown",
   "metadata": {},
   "source": [
    "##### In-Class Exercise #3 - Add two methods to your car class. One method called `drive` that will take in the number of miles and decrease that car's `gas_level` by 1 unit for every 5 miles. Another method called `fill_up` will take in gallons and increase the `gas_level` by 10 units for every gallon."
   ]
  },
  {
   "cell_type": "code",
   "execution_count": null,
   "metadata": {},
   "outputs": [],
   "source": []
  },
  {
   "cell_type": "markdown",
   "metadata": {},
   "source": [
    "## Classes as Attributes <br>\n",
    "<p>Classes can also be used as attributes within another class. This is useful in situations where you need to keep variables locally stored, instead of globally stored.</p>"
   ]
  },
  {
   "cell_type": "code",
   "execution_count": 39,
   "metadata": {},
   "outputs": [],
   "source": [
    "class Album:\n",
    "    company = 'Apple Records'\n",
    "    \n",
    "    def __init__(self, title, artist, release_year, song_list=[]):\n",
    "        self.title = title.title()\n",
    "        self.artist = artist.title()\n",
    "        self.release_year = release_year\n",
    "        self.song_list = song_list\n",
    "        \n",
    "    def add_song(self, song):\n",
    "        self.song_list.append(song)\n",
    "        print(f'{song.title} has been added to the album at position {len(self.song_list)}')\n",
    "        \n",
    "        \n",
    "    def play_album(self):\n",
    "        for song in self.song_list:\n",
    "            print(f'playing {song.title} for the next {song.length}')\n",
    "            \n",
    "        \n",
    "        \n",
    "class Song:\n",
    "    \n",
    "    def __init__(self, title, length, features=None):\n",
    "        self.title = title\n",
    "        self.length = length\n",
    "        self.features = features\n",
    "        \n",
    "        \n",
    "abbey_road = Album('Abbey Road', 'The Beatles', 1969)\n",
    "song1 = Song('Come Together', '4:19')\n",
    "song2 = Song('Something', '3:02')\n",
    "song3 = Song(\"Maxwell's Silver Hammer\", '3:27')"
   ]
  },
  {
   "cell_type": "code",
   "execution_count": 40,
   "metadata": {},
   "outputs": [
    {
     "name": "stdout",
     "output_type": "stream",
     "text": [
      "Come Together has been added to the album at position 1\n",
      "Something has been added to the album at position 2\n",
      "Maxwell's Silver Hammer has been added to the album at position 3\n"
     ]
    }
   ],
   "source": [
    "abbey_road.add_song(song1)\n",
    "abbey_road.add_song(song2)\n",
    "abbey_road.add_song(song3)"
   ]
  },
  {
   "cell_type": "code",
   "execution_count": 41,
   "metadata": {},
   "outputs": [
    {
     "name": "stdout",
     "output_type": "stream",
     "text": [
      "playing Come Together for the next 4:19\n",
      "playing Something for the next 3:02\n",
      "playing Maxwell's Silver Hammer for the next 3:27\n"
     ]
    }
   ],
   "source": [
    "abbey_road.play_album()"
   ]
  },
  {
   "cell_type": "markdown",
   "metadata": {},
   "source": [
    "# Exercises"
   ]
  },
  {
   "cell_type": "markdown",
   "metadata": {},
   "source": [
    "### Exercise 1 - Turn the shopping cart program into an object-oriented program"
   ]
  },
  {
   "cell_type": "code",
   "execution_count": 2,
   "metadata": {},
   "outputs": [
    {
     "name": "stdout",
     "output_type": "stream",
     "text": [
      "Add an item in the list press .......... 1 \n",
      "Update an item from the list press ..... 2 \n",
      "Remove an item from the list press ..... 3 \n",
      "Print the list press ................... 4 \n",
      "Claer the list press ................... 5 \n",
      "Finish shopping press .................. 6 \n",
      "6\n"
     ]
    }
   ],
   "source": [
    "# Create a class called cart that retains items and has methods to add, remove, and show\n",
    "\n",
    "# Create a class called cart that retains items and has methods to add, remove, and show\n",
    "\n",
    "from IPython.display import clear_output\n",
    "import time\n",
    "\n",
    "\n",
    "# menu section -------------------------------------------------------------------------------------\n",
    "def print_menu():\n",
    "    # Printing Menu\n",
    "    option = input(\"Add an item in the list press .......... 1 \\n\"+\n",
    "                   \"Update an item from the list press ..... 2 \\n\"+\n",
    "                   \"Remove an item from the list press ..... 3 \\n\"+\n",
    "                   \"Print the list press ................... 4 \\n\"+\n",
    "                   \"Claer the list press ................... 5 \\n\"+\n",
    "                   \"Finish shopping press .................. 6 \\n\")\n",
    "    return option\n",
    "\n",
    "# info menu -----------------------------------------------------------------------------------------\n",
    "def info():\n",
    "    print(\"\"\"\n",
    "    ******************************************\n",
    "    *                                        *\n",
    "    *      Shopping List APP version 1.0     *\n",
    "    *                                        *\n",
    "    *           By Timur Celik               *\n",
    "    *                                        *\n",
    "    *           ☆┌─┐  ─┐   ☆                *\n",
    "    *            │▒│ /▒/                     *\n",
    "    *            │▒│/▒/                      *\n",
    "    *            │▒ /▒/─┬─┐   ◯             *\n",
    "    *            │▒│▒|▒│▒│                   *\n",
    "    *           ┌┴─┴─┐-┘─┘                   *\n",
    "    *           │▒┌──┘▒▒▒│◯                 *\n",
    "    *           └┐▒▒▒▒▒▒┌┘                   *\n",
    "    *           ◯└┐▒▒▒▒┌                    *\n",
    "    *                                        *\n",
    "    ******************************************\n",
    "    \"\"\")\n",
    "\n",
    "# ================================= Class ==================================\n",
    "\n",
    "class Cart:\n",
    "    d = {\"Apple\":[5, 1.5]}\n",
    "    \n",
    "    def __init__(self):\n",
    "        pass\n",
    "    # Adding Item Section --------------------------------------------------------------------------------\n",
    "    def add_item(self,item=''):\n",
    "        if item==\"\":\n",
    "            self.item = input(\"Enter item name .... \")\n",
    "        else:\n",
    "            self.item = item\n",
    "        self.item = self.item.strip().title() #Capitalizing first letter and removing spaces\n",
    "\n",
    "    # item exist in the list\n",
    "        if self.item in self.d:\n",
    "            print(\"Item is in the list !\")\n",
    "            update_item(self.item)\n",
    "\n",
    "    # Adding new item in the list\n",
    "        else:\n",
    "            # getting quantity\n",
    "            q=0\n",
    "            p=0\n",
    "            while True:\n",
    "                clear_output(wait=False)\n",
    "                q = input(f\"Enter \"+self.item+\"'s quantity ... \")\n",
    "                if q.isnumeric() and int(q)>0:\n",
    "                    clear_output(wait=True)\n",
    "                    break\n",
    "                else:\n",
    "                    print(\"PLEASE ENTER ITEM's Quantity GREATER THAN 0 OR A NUMBER\")\n",
    "\n",
    "            # getting price\n",
    "            while True:\n",
    "                clear_output(wait=False)\n",
    "                p = input(\"Enter \"+self.item +\"'s price ... \")\n",
    "                if p.replace('.','').isnumeric() and float(p)>0:\n",
    "                    clear_output(wait=True)\n",
    "                    self.d[self.item]=[int(q),float(p)]\n",
    "                    print(f\"{self.item} is added with quantity {self.d[self.item][0]} and price ${self.d[self.item][1]:0.2f}\") \n",
    "                    break\n",
    "                else:\n",
    "                    print(\"PLEASE ENTER ITEM GREATER THAN 0 OR A NUMBER\")\n",
    "\n",
    "\n",
    "\n",
    "    # update Item Section ----------------------------------------------------------------------------------\n",
    "    def update_item(self,item=''):\n",
    "        if item==\"\":\n",
    "            self.item = input(\"Enter item name .... \")\n",
    "        else:\n",
    "            self.item = item\n",
    "        self.item = self.item.strip().title() #Capitalizing first letter and removing spaces    \n",
    "\n",
    "    # checking item is in the list --------------------------- update()\n",
    "        if self.item in self.d:\n",
    "            while True:\n",
    "                clear_output(wait=False)\n",
    "                c = input(\"Update only quantity press ..... 1\\n\"+\n",
    "                          \"Update only price .............. 2\\n\"+\n",
    "                          \"Update both price and quatity .. 3\\n\"+\n",
    "                          \"Return to main menu ............ 4\\n\")\n",
    "                if c in {'1','2','3','4'}:\n",
    "                    break\n",
    "                else:\n",
    "                    print(\"PLEASE ENTER A VALID SELECTION!\")\n",
    "\n",
    "    # updating quantity index 0 ------------------------------- update()\n",
    "            if c == '1':\n",
    "\n",
    "                while True:\n",
    "                    clear_output(wait=False)\n",
    "                    q = input(f\"Old Quantitiy is {self.d[self.item][0]} \\n\"+\n",
    "                              f\"Enter {self.item}'s new quantity ... \")\n",
    "                    if q.isnumeric() and int(q)>0:\n",
    "                        self.d[self.item][0]=int(q)\n",
    "                        clear_output(wait=True)\n",
    "                        print(f\"{self.item}'s quatity is updated {self.d[self.item][0]}\")\n",
    "                        break\n",
    "                    else:\n",
    "                        print(\"PLEASE ENTER ITEM's QUANTITY GREATER THAN 0 OR A NUMBER\")\n",
    "\n",
    "\n",
    "    # updating item price index 1 ------------------------------- update()\n",
    "            if c == '2':\n",
    "\n",
    "                while True:\n",
    "                    clear_output(wait=False)\n",
    "                    q = input(f\"Old price is {self.d[self.item][1]} \\n\"+\n",
    "                              f\"Enter {self.item}'s new price ... \")\n",
    "                    if q.replace('.','').isnumeric() and float(q)>0:\n",
    "                        self.d[self.item][1]=float(q)\n",
    "                        clear_output(wait=False)\n",
    "                        print(f\"{self.item}'s price is updated ${self.d[self.item][1]:0.2f}\")\n",
    "                        break\n",
    "                    else:\n",
    "                        print(\"PLEASE ENTER ITEM's PRICE GREATER THAN 0 OR A NUMBER\")\n",
    "\n",
    "\n",
    "    # updating item quantitiy and price index 1 and 2 ------------ update()\n",
    "            if c == '3':\n",
    "                while True:\n",
    "                    clear_output(wait=True)\n",
    "                    q = input(f\"Old Quantitiy is {self.d[self.item][0]} \\n\"+\n",
    "                              f\"Enter {self.item}'s new quantity ... \")\n",
    "                    if q.isnumeric() and int(q)>0:\n",
    "                        self.d[self.item][0]=int(q)\n",
    "                        clear_output(wait=False)\n",
    "                        print(f\"{self.item}'s quatity is updated {self.d[self.item][0]}\")\n",
    "                        break\n",
    "                    else:\n",
    "                        print(\"PLEASE ENTER ITEM's QUANTITY GREATER THAN 0 OR A NUMBER\")\n",
    "\n",
    "                while True:\n",
    "                    clear_output(wait=False)\n",
    "                    q = input(f\"Old price is {self.d[self.item][1]} \\n\"+\n",
    "                              f\"Enter {self.item}'s new price ... \")\n",
    "                    if q.replace('.','').isnumeric() and float(q)>0:\n",
    "                        self.d[self.item][1]=float(q)\n",
    "                        clear_output(wait=False)\n",
    "                        print(f\"{self.item} is updated new quantity {self.d[self.item][0]} and new price ${self.d[self.item][1]:0.2f}\") \n",
    "                        break\n",
    "                    else:\n",
    "                        print(\"PLEASE ENTER ITEM's PRICE GREATER THAN 0 OR A NUMBER\")\n",
    "\n",
    "\n",
    "    # item is not in the list so redirecting to adding new item funtion with item parameter\n",
    "        else:\n",
    "            add_item(item)\n",
    "\n",
    "    # Remove item from a list ---------------------------------------------------------------------------------\n",
    "    def remove_item(self,item=\"\"):\n",
    "        if item==\"\":\n",
    "            self.item = input(\"Enter item name .... \")\n",
    "        else:\n",
    "            self.item = item\n",
    "        self.item = self.item.strip().title() #Capitalizing first letter and removing spaces \n",
    "\n",
    "        if self.item in self.d:\n",
    "            del self.d[self.item]\n",
    "            print(self.item+\" is successfully removed from the list\")\n",
    "\n",
    "        else:\n",
    "            print(\"THERE IS NO SUCH ITEM IN THE LIST !!!\")\n",
    "\n",
    "\n",
    "    # Listing shoping the list --------------------------------------------------------------------------------\n",
    "    def print_list(self):\n",
    "        if not len(self.d):\n",
    "            clear_output(wait=True)\n",
    "            print(\"List is empty !!!\")\n",
    "        else:\n",
    "            clear_output(wait=True)\n",
    "            print(\"-------------- ReceipT ---------------------\\n\")\n",
    "            for item in self.d:\n",
    "                print(f\"{item}\\t quantity {self.d[item][0]} \\tunit price ${self.d[item][1]:0.2f} \\titem(s) price\"+ \n",
    "                      f\"${self.d[item][0]*self.d[item][1]:0.2f}\\n\")\n",
    "            print(\"********************************************\")\n",
    "            print(f\"Number of item(s) {self.get_total()[1]} and Total amount ${self.get_total()[0]:0.2f}\")\n",
    "\n",
    "\n",
    "    # Sub funciton - calculates total price in the list\n",
    "    def get_total(self):\n",
    "        total = [0,0]\n",
    "        for item in self.d:\n",
    "            total[0]+=(self.d[item][0]*self.d[item][1])\n",
    "            total[1]+=1\n",
    "        return total\n",
    "\n",
    "    def clear_list(self):\n",
    "        self.d.clear()\n",
    "        print(\"List is cleared !!!\")\n",
    "# Main funtion --------------------------------------------------------------------------------------------\n",
    "def main():\n",
    "    opt = '0' #keeps menu option\n",
    "    clear_output(wait=True)\n",
    "    info()\n",
    "    time.sleep(2)\n",
    "    clear_output(wait=True)\n",
    "    while opt!='6':\n",
    "        cart = Cart()\n",
    "        clear_output(wait=True)\n",
    "        opt = print_menu()\n",
    "        if not opt in {'1','2','3','4','5','6'}:\n",
    "            print(\"PLEASE ENTER A VALID SELECTION!\")\n",
    "        else:\n",
    "            if opt == '1':\n",
    "                cart.add_item()\n",
    "            elif opt == '2':\n",
    "                cart.update_item()\n",
    "            elif opt == '3':\n",
    "                cart.remove_item()\n",
    "            elif opt == '4':\n",
    "                cart.print_list()\n",
    "            elif opt == '5':\n",
    "                cart.clear_list()\n",
    "main()  "
   ]
  },
  {
   "cell_type": "markdown",
   "metadata": {},
   "source": [
    "### Exercise 2 - Write a Python class for an Animal that has a name and energy attributes. The animal class should also have methods for eat, sleep, and play that will take in an integer and increase/decrease the energy of the animal with a formatted print statement"
   ]
  },
  {
   "cell_type": "code",
   "execution_count": 1,
   "metadata": {},
   "outputs": [
    {
     "name": "stdout",
     "output_type": "stream",
     "text": [
      "{'name': 'Simba', 'energy': 20}\n",
      "Simba does't have enough energy level\n",
      "Simba's energy level is 20\n",
      "Simba's energy level is 10\n",
      "Simba's energy level is 30\n"
     ]
    }
   ],
   "source": [
    "# Example 1\n",
    "# buddy = Animal('Buddy', 10)\n",
    "# buddy.play(5) -> \"Buddy is playing for 5 minutes. His energy is now 5\"\n",
    "# buddy.sleep(10) -> \"Buddy is sleeping for 5 minutes. His energy is now 15\"\n",
    "\n",
    "\n",
    "class Animal:\n",
    "    def __init__(self, name, energy):\n",
    "        self.name = name\n",
    "        self.energy = energy\n",
    "        \n",
    "    def play(self, duration):\n",
    "        if (self.energy < duration):\n",
    "            print(f\"{self.name} does't have enough energy level\")\n",
    "        else:\n",
    "            self.energy -= duration\n",
    "            \n",
    "    def sleep(self, duration):\n",
    "        self.energy += duration\n",
    "        \n",
    "    def print_energy(self):\n",
    "        print(f\"{self.name}'s energy level is {self.energy}\")\n",
    "        \n",
    "        \n",
    "        \n",
    "cat = Animal(\"Simba\", 20)\n",
    "print(cat.__dict__)\n",
    "cat.play(25)\n",
    "cat.print_energy()\n",
    "cat.play(10)\n",
    "cat.print_energy()\n",
    "cat.sleep(20)\n",
    "cat.print_energy()"
   ]
  },
  {
   "cell_type": "code",
   "execution_count": null,
   "metadata": {},
   "outputs": [],
   "source": []
  }
 ],
 "metadata": {
  "kernelspec": {
   "display_name": "Python 3 (ipykernel)",
   "language": "python",
   "name": "python3"
  },
  "language_info": {
   "codemirror_mode": {
    "name": "ipython",
    "version": 3
   },
   "file_extension": ".py",
   "mimetype": "text/x-python",
   "name": "python",
   "nbconvert_exporter": "python",
   "pygments_lexer": "ipython3",
   "version": "3.9.12"
  }
 },
 "nbformat": 4,
 "nbformat_minor": 2
}
